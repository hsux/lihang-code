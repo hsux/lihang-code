{
 "cells": [
  {
   "cell_type": "markdown",
   "metadata": {},
   "source": [
    "# tf RNN\n",
    "\n",
    "https://zhuanlan.zhihu.com/p/28196873"
   ]
  },
  {
   "cell_type": "markdown",
   "metadata": {},
   "source": [
    "## 一、学习单步的RNN：RNNCell"
   ]
  },
  {
   "cell_type": "markdown",
   "metadata": {},
   "source": [
    "“RNNCell”，它是TensorFlow中实现RNN的基本单元，每个RNNCell都有一个call方法，使用方式是：```(output, next_state) = call(input, state)```。"
   ]
  },
  {
   "cell_type": "markdown",
   "metadata": {},
   "source": [
    "假设我们有一个初始状态h0，还有输入x1，调用call(x1, h0)后就可以得到(output1, h1)：\n",
    "\n",
    "![](../imgs/rnn1.jpg)"
   ]
  },
  {
   "cell_type": "markdown",
   "metadata": {},
   "source": [
    "再调用一次call(x2, h1)就可以得到(output2, h2)：\n",
    "![](../imgs/rnn2.jpg)"
   ]
  },
  {
   "cell_type": "markdown",
   "metadata": {},
   "source": [
    "每调用一次RNNCell的call方法，就相当于在时间上“推进了一步”，这就是RNNCell的基本功能。"
   ]
  },
  {
   "cell_type": "markdown",
   "metadata": {},
   "source": [
    "细节化表示如下：\n",
    "\n",
    "![](../imgs/rnn3.jpg)\n",
    "\n",
    "上图的网络在`t`时刻接收到输入$x_{t}$之后，隐藏层的值是$s_t$，输出值是$o_t$。$s_t$取决于$x_t$和$s_{t-1}$，公式如下：\n",
    "\n",
    "$$O_t = g(V \\cdot S_t)$$\n",
    "$$S_t = f(U \\cdot X_t + W \\cdot S_{t-1})$$"
   ]
  },
  {
   "cell_type": "markdown",
   "metadata": {},
   "source": [
    "除了call方法外，对于RNNCell，还有两个类属性比较重要：\n",
    "\n",
    "- state_size 隐层的大小\n",
    "- output_size 输出的大小\n",
    "\n",
    "比如我们通常是将一个batch送入模型计算，设输入数据的形状为```(batch_size, input_size)```，那么计算时得到的隐层状态就是```(batch_size, state_size)```，输出就是```(batch_size, output_size)```。\n",
    "\n",
    "```(batch_size, input_size)```即`(batch_size, 1, input_size)`指每次只处理batch_size\\*1的word，`input_size`是一个word向量的长度,`1`表示`time_step=1`。\n",
    "\n",
    "`batch_size`是训练参数，可变，`time_step`和`input_size`是模型参数，训练时指定了就不可变了。"
   ]
  },
  {
   "cell_type": "markdown",
   "metadata": {},
   "source": [
    "在代码实现上，RNNCell只是一个抽象类，我们用的时候都是用的它的两个子类BasicRNNCell和BasicLSTMCell。顾名思义，前者是RNN的基础类，后者是LSTM的基础类。"
   ]
  },
  {
   "cell_type": "code",
   "execution_count": 1,
   "metadata": {},
   "outputs": [
    {
     "name": "stdout",
     "output_type": "stream",
     "text": [
      "WARNING:tensorflow:From <ipython-input-1-f30d3bdb916a>:4: BasicRNNCell.__init__ (from tensorflow.python.ops.rnn_cell_impl) is deprecated and will be removed in a future version.\n",
      "Instructions for updating:\n",
      "This class is equivalent as tf.keras.layers.SimpleRNNCell, and will be replaced by that in Tensorflow 2.0.\n",
      "128\n",
      "WARNING:tensorflow:From d:\\python\\anaconda3\\envs\\tf115\\lib\\site-packages\\tensorflow_core\\python\\ops\\rnn_cell_impl.py:456: Layer.add_variable (from tensorflow.python.keras.engine.base_layer) is deprecated and will be removed in a future version.\n",
      "Instructions for updating:\n",
      "Please use `layer.add_weight` method instead.\n",
      "WARNING:tensorflow:From d:\\python\\anaconda3\\envs\\tf115\\lib\\site-packages\\tensorflow_core\\python\\ops\\rnn_cell_impl.py:460: calling Zeros.__init__ (from tensorflow.python.ops.init_ops) with dtype is deprecated and will be removed in a future version.\n",
      "Instructions for updating:\n",
      "Call initializer instance with the dtype argument instead of passing it to the constructor\n",
      "h1: (32, 128)\n",
      "output: (32, 128)\n"
     ]
    }
   ],
   "source": [
    "import tensorflow as tf\n",
    "import numpy as np\n",
    "\n",
    "cell = tf.nn.rnn_cell.BasicRNNCell(num_units=128) # state_size = 128\n",
    "print(cell.state_size) # 128\n",
    "\n",
    "inputs = tf.placeholder(np.float32, shape=(32, 100)) # 32 是 batch_size\n",
    "h0 = cell.zero_state(32, np.float32) # 通过zero_state得到一个全0的初始状态，形状为(batch_size, state_size)\n",
    "output, h1 = cell.__call__(inputs, h0) #调用call函数\n",
    "\n",
    "print('h1:',h1.shape) # (32, 128)\n",
    "print('output:',output.shape) # (32, 128)"
   ]
  },
  {
   "cell_type": "markdown",
   "metadata": {},
   "source": [
    "对于BasicLSTMCell，情况有些许不同，因为LSTM可以看做有两个隐状态:h和c，对应的隐层就是一个Tuple，每个都是```(batch_size, state_size)```的形状："
   ]
  },
  {
   "cell_type": "code",
   "execution_count": 2,
   "metadata": {},
   "outputs": [
    {
     "name": "stdout",
     "output_type": "stream",
     "text": [
      "WARNING:tensorflow:From <ipython-input-2-08ecdb63de51>:3: BasicLSTMCell.__init__ (from tensorflow.python.ops.rnn_cell_impl) is deprecated and will be removed in a future version.\n",
      "Instructions for updating:\n",
      "This class is equivalent as tf.keras.layers.LSTMCell, and will be replaced by that in Tensorflow 2.0.\n",
      "LSTMStateTuple(c=<tf.Tensor 'basic_lstm_cell/Add_1:0' shape=(32, 128) dtype=float32>, h=<tf.Tensor 'basic_lstm_cell/Mul_2:0' shape=(32, 128) dtype=float32>)\n",
      "h1.h: (32, 128)\n",
      "h1.c: (32, 128)\n",
      "output: (32, 128)\n"
     ]
    }
   ],
   "source": [
    "import tensorflow as tf\n",
    "import numpy as np\n",
    "lstm_cell = tf.nn.rnn_cell.BasicLSTMCell(num_units=128)  # state_size=128\n",
    "inputs = tf.placeholder(np.float32, shape=(32, 100)) # 32 是 batch_size,100是序列长度\n",
    "h0 = lstm_cell.zero_state(32, np.float32) # 通过zero_state得到一个全0的初始状态\n",
    "output, h1 = lstm_cell.__call__(inputs, h0)\n",
    "\n",
    "print(h1)\n",
    "print('h1.h:',h1.h.shape) # (32, 128)\n",
    "print('h1.c:',h1.c.shape) # (32, 128)\n",
    "print('output:',output.shape) # (32, 128)"
   ]
  },
  {
   "cell_type": "markdown",
   "metadata": {},
   "source": [
    "## 二、学习如何一次执行多步: tf.nn.dynamic_rnn"
   ]
  },
  {
   "cell_type": "markdown",
   "metadata": {},
   "source": [
    "基础的RNNCell有一个很明显的问题：对于单个的RNNCell，我们使用它的call函数进行运算时，只是在序列时间上前进了一步。比如使用x1、h0得到h1，通过x2、h1得到h2等。这样的话，**如果我们的序列长度为10，就要调用10次call函数**，比较麻烦。对此，TensorFlow提供了一个```tf.nn.dynamic_rnn```函数，**使用该函数就相当于调用了n次call函数。即通过{h0,x1, x2, …., xn}直接得{h1,h2…,hn}。**\n",
    "\n",
    "设我们输入数据的格式为```(batch_size, time_steps, input_size)```，其中`time_steps`表示序列本身的长度，如在Char RNN中，长度为10的句子对应的`time_steps`就等于10。最后的`input_size`就表示输入数据单个序列单个时间维度上固有的长度。另外我们已经定义好了一个RNNCell，调用该RNNCell的`call`函数`time_steps`次，对应的代码就是：\n",
    "\n",
    "```python\n",
    "\n",
    "# inputs: shape = (batch_size, time_steps, input_size) \n",
    "# cell: RNNCell\n",
    "# initial_state: shape = (batch_size, cell.state_size)。初始状态。一般可以取零矩阵\n",
    "outputs, state = tf.nn.dynamic_rnn(cell, inputs, initial_state=initial_state)\n",
    "\n",
    "```\n",
    "\n",
    "此时，得到的`outputs`就是`time_steps`步里所有的输出。它的形状为`(batch_size, time_steps, cell.output_size)`。`state`是最后一步的隐状态，它的形状为`(batch_size, cell.state_size)`。"
   ]
  },
  {
   "cell_type": "code",
   "execution_count": 3,
   "metadata": {},
   "outputs": [
    {
     "name": "stdout",
     "output_type": "stream",
     "text": [
      "WARNING:tensorflow:\n",
      "The TensorFlow contrib module will not be included in TensorFlow 2.0.\n",
      "For more information, please see:\n",
      "  * https://github.com/tensorflow/community/blob/master/rfcs/20180907-contrib-sunset.md\n",
      "  * https://github.com/tensorflow/addons\n",
      "  * https://github.com/tensorflow/io (for I/O related ops)\n",
      "If you depend on functionality not listed there, please file an issue.\n",
      "\n",
      "WARNING:tensorflow:From <ipython-input-3-dad197c300ec>:7: dynamic_rnn (from tensorflow.python.ops.rnn) is deprecated and will be removed in a future version.\n",
      "Instructions for updating:\n",
      "Please use `keras.layers.RNN(cell)`, which is equivalent to this API\n",
      "(32, 10, 128)\n",
      "(32, 128)\n"
     ]
    }
   ],
   "source": [
    "# 定长\n",
    "import tensorflow as tf \n",
    "\n",
    "rnn_cell = tf.contrib.rnn.BasicRNNCell(num_units=128)    # states_size=128\n",
    "X = tf.placeholder(tf.float32, [32, 10, 100])   # input_shape=(batch_size, time_steps,input_size)\n",
    "\n",
    "outputs, states = tf.nn.dynamic_rnn(rnn_cell, X, dtype=tf.float32)\n",
    "\n",
    "print(outputs.shape)    # (batch_size,time_size, cell.output_size)=(32, 10, 128)\n",
    "print(states.shape)        # (batch_size, output_size)=(batch_size, states_size)=(32, 128)"
   ]
  },
  {
   "cell_type": "code",
   "execution_count": 1,
   "metadata": {},
   "outputs": [
    {
     "name": "stdout",
     "output_type": "stream",
     "text": [
      "WARNING:tensorflow:\n",
      "The TensorFlow contrib module will not be included in TensorFlow 2.0.\n",
      "For more information, please see:\n",
      "  * https://github.com/tensorflow/community/blob/master/rfcs/20180907-contrib-sunset.md\n",
      "  * https://github.com/tensorflow/addons\n",
      "  * https://github.com/tensorflow/io (for I/O related ops)\n",
      "If you depend on functionality not listed there, please file an issue.\n",
      "\n",
      "WARNING:tensorflow:From <ipython-input-1-50fb279d3cc0>:8: BasicRNNCell.__init__ (from tensorflow.python.ops.rnn_cell_impl) is deprecated and will be removed in a future version.\n",
      "Instructions for updating:\n",
      "This class is equivalent as tf.keras.layers.SimpleRNNCell, and will be replaced by that in Tensorflow 2.0.\n",
      "WARNING:tensorflow:From <ipython-input-1-50fb279d3cc0>:9: dynamic_rnn (from tensorflow.python.ops.rnn) is deprecated and will be removed in a future version.\n",
      "Instructions for updating:\n",
      "Please use `keras.layers.RNN(cell)`, which is equivalent to this API\n",
      "WARNING:tensorflow:From d:\\python\\anaconda3\\envs\\tf115\\lib\\site-packages\\tensorflow_core\\python\\ops\\rnn_cell_impl.py:456: Layer.add_variable (from tensorflow.python.keras.engine.base_layer) is deprecated and will be removed in a future version.\n",
      "Instructions for updating:\n",
      "Please use `layer.add_weight` method instead.\n",
      "WARNING:tensorflow:From d:\\python\\anaconda3\\envs\\tf115\\lib\\site-packages\\tensorflow_core\\python\\ops\\rnn_cell_impl.py:460: calling Zeros.__init__ (from tensorflow.python.ops.init_ops) with dtype is deprecated and will be removed in a future version.\n",
      "Instructions for updating:\n",
      "Call initializer instance with the dtype argument instead of passing it to the constructor\n",
      "WARNING:tensorflow:From d:\\python\\anaconda3\\envs\\tf115\\lib\\site-packages\\tensorflow_core\\python\\ops\\rnn.py:244: where (from tensorflow.python.ops.array_ops) is deprecated and will be removed in a future version.\n",
      "Instructions for updating:\n",
      "Use tf.where in 2.0, which has the same broadcast rule as np.where\n",
      "(?, 2, 125)\n",
      "(?, 125)\n"
     ]
    }
   ],
   "source": [
    "# 边长输入序列\n",
    "import tensorflow as tf \n",
    "import numpy as np\n",
    "\n",
    "X = tf.placeholder(tf.float32, [None, 2, 3])   # (batch_size, time_steps,input_size)\n",
    "seq_length = tf.placeholder(tf.int32, [None])\n",
    "\n",
    "basic_cell = tf.contrib.rnn.BasicRNNCell(num_units=125)\n",
    "outputs, states = tf.nn.dynamic_rnn(basic_cell, X, sequence_length=seq_length, dtype=tf.float32)\n",
    "\n",
    "print(outputs.shape)    # (batch_size,time_size, cell.output_size)=(32, 10, 128)\n",
    "print(states.shape) \n",
    "\n",
    "X_batch = np.array([\n",
    "    # step 0     step 1\n",
    "    [[0, 1, 2], [9, 8, 7]], # instance 0\n",
    "    [[3, 4, 5], [0, 0, 0]], # instance 1 (padded with a zero vector)\n",
    "    [[6, 7, 8], [6, 5, 4]], # instance 2\n",
    "    [[9, 0, 1], [3, 2, 1]], # instance 3\n",
    "])\n",
    "seq_length_batch = np.array([2, 1, 2, 2])\n",
    " \n",
    "with tf.Session() as sess:\n",
    "    init = tf.global_variables_initializer()\n",
    "    sess.run(init)\n",
    "    outputs_val, states_val = sess.run([outputs, states], feed_dict={X: X_batch, seq_length: seq_length_batch})"
   ]
  },
  {
   "cell_type": "markdown",
   "metadata": {},
   "source": [
    "## 三、学习如何堆叠RNNCell：MultiRNNCell"
   ]
  },
  {
   "cell_type": "markdown",
   "metadata": {},
   "source": [
    "单层RNN的能力有限，我们需要**多层RNN**。将`x`输入第一层RNN的后得到隐层状态`h`，这个隐层状态就相当于第二层RNN的输入，第二层RNN的隐层状态又相当于第三层RNN的输入，以此类推。在TensorFlow中，可以使用`tf.nn.rnn_cell.MultiRNNCell`函数对RNNCell进行堆叠，相应的示例程序如下："
   ]
  },
  {
   "cell_type": "code",
   "execution_count": 1,
   "metadata": {},
   "outputs": [
    {
     "name": "stdout",
     "output_type": "stream",
     "text": [
      "WARNING:tensorflow:From <ipython-input-1-a5e0a9c252df>:6: BasicRNNCell.__init__ (from tensorflow.python.ops.rnn_cell_impl) is deprecated and will be removed in a future version.\n",
      "Instructions for updating:\n",
      "This class is equivalent as tf.keras.layers.SimpleRNNCell, and will be replaced by that in Tensorflow 2.0.\n",
      "WARNING:tensorflow:From <ipython-input-1-a5e0a9c252df>:8: MultiRNNCell.__init__ (from tensorflow.python.ops.rnn_cell_impl) is deprecated and will be removed in a future version.\n",
      "Instructions for updating:\n",
      "This class is equivalent as tf.keras.layers.StackedRNNCells, and will be replaced by that in Tensorflow 2.0.\n",
      "(128, 128, 128)\n",
      "WARNING:tensorflow:From d:\\python\\anaconda3\\envs\\tf115\\lib\\site-packages\\tensorflow_core\\python\\ops\\rnn_cell_impl.py:456: Layer.add_variable (from tensorflow.python.keras.engine.base_layer) is deprecated and will be removed in a future version.\n",
      "Instructions for updating:\n",
      "Please use `layer.add_weight` method instead.\n",
      "WARNING:tensorflow:From d:\\python\\anaconda3\\envs\\tf115\\lib\\site-packages\\tensorflow_core\\python\\ops\\rnn_cell_impl.py:460: calling Zeros.__init__ (from tensorflow.python.ops.init_ops) with dtype is deprecated and will be removed in a future version.\n",
      "Instructions for updating:\n",
      "Call initializer instance with the dtype argument instead of passing it to the constructor\n",
      "(<tf.Tensor 'cell_0/basic_rnn_cell/Tanh:0' shape=(32, 128) dtype=float32>, <tf.Tensor 'cell_1/basic_rnn_cell/Tanh:0' shape=(32, 128) dtype=float32>, <tf.Tensor 'cell_2/basic_rnn_cell/Tanh:0' shape=(32, 128) dtype=float32>)\n",
      "Tensor(\"cell_2/basic_rnn_cell/Tanh:0\", shape=(32, 128), dtype=float32)\n"
     ]
    }
   ],
   "source": [
    "import tensorflow as tf\n",
    "import numpy as np\n",
    "\n",
    "# 每调用一次这个函数就返回一个BasicRNNCell\n",
    "def get_a_cell():\n",
    "    return tf.nn.rnn_cell.BasicRNNCell(num_units=128)\n",
    "# 用tf.nn.rnn_cell MultiRNNCell创建3层RNN\n",
    "cell = tf.nn.rnn_cell.MultiRNNCell([get_a_cell() for _ in range(3)]) # 3层RNN\n",
    "# 得到的cell实际也是RNNCell的子类\n",
    "# 它的state_size是(128, 128, 128)\n",
    "# (128, 128, 128)并不是128x128x128的意思\n",
    "# 而是表示共有3个隐层状态，每个隐层状态的大小为128\n",
    "print(cell.state_size) # (128, 128, 128)\n",
    "# 使用对应的call函数\n",
    "inputs = tf.placeholder(np.float32, shape=(32,100)) # 32 是 batch_size\n",
    "h0 = cell.zero_state(32, np.float32) # 通过zero_state得到一个全0的初始状态\n",
    "output, h1 = cell.call(inputs, h0)\n",
    "\n",
    "print(h1) # tuple中含有3个32x128的向量\n",
    "print(output) # tuple中含有3个32x128的向量\n"
   ]
  },
  {
   "cell_type": "code",
   "execution_count": 1,
   "metadata": {},
   "outputs": [
    {
     "name": "stdout",
     "output_type": "stream",
     "text": [
      "WARNING:tensorflow:From <ipython-input-1-57e259a4b574>:6: BasicRNNCell.__init__ (from tensorflow.python.ops.rnn_cell_impl) is deprecated and will be removed in a future version.\n",
      "Instructions for updating:\n",
      "This class is equivalent as tf.keras.layers.SimpleRNNCell, and will be replaced by that in Tensorflow 2.0.\n",
      "WARNING:tensorflow:From <ipython-input-1-57e259a4b574>:8: MultiRNNCell.__init__ (from tensorflow.python.ops.rnn_cell_impl) is deprecated and will be removed in a future version.\n",
      "Instructions for updating:\n",
      "This class is equivalent as tf.keras.layers.StackedRNNCells, and will be replaced by that in Tensorflow 2.0.\n",
      "(128, 128, 128)\n",
      "WARNING:tensorflow:From <ipython-input-1-57e259a4b574>:19: dynamic_rnn (from tensorflow.python.ops.rnn) is deprecated and will be removed in a future version.\n",
      "Instructions for updating:\n",
      "Please use `keras.layers.RNN(cell)`, which is equivalent to this API\n",
      "WARNING:tensorflow:From d:\\python\\anaconda3\\envs\\tf115\\lib\\site-packages\\tensorflow_core\\python\\ops\\rnn_cell_impl.py:456: Layer.add_variable (from tensorflow.python.keras.engine.base_layer) is deprecated and will be removed in a future version.\n",
      "Instructions for updating:\n",
      "Please use `layer.add_weight` method instead.\n",
      "WARNING:tensorflow:From d:\\python\\anaconda3\\envs\\tf115\\lib\\site-packages\\tensorflow_core\\python\\ops\\rnn_cell_impl.py:460: calling Zeros.__init__ (from tensorflow.python.ops.init_ops) with dtype is deprecated and will be removed in a future version.\n",
      "Instructions for updating:\n",
      "Call initializer instance with the dtype argument instead of passing it to the constructor\n",
      "(<tf.Tensor 'rnn/while/Exit_3:0' shape=(32, 128) dtype=float32>, <tf.Tensor 'rnn/while/Exit_4:0' shape=(32, 128) dtype=float32>, <tf.Tensor 'rnn/while/Exit_5:0' shape=(32, 128) dtype=float32>)\n",
      "Tensor(\"rnn/transpose_1:0\", shape=(32, 4, 128), dtype=float32)\n"
     ]
    }
   ],
   "source": [
    "# 多层rnn\n",
    "import tensorflow as tf\n",
    "import numpy as np\n",
    "\n",
    "# 每调用一次这个函数就返回一个BasicRNNCell\n",
    "def get_a_cell():\n",
    "    return tf.nn.rnn_cell.BasicRNNCell(num_units=128)\n",
    "# 用tf.nn.rnn_cell MultiRNNCell创建3层RNN\n",
    "cell = tf.nn.rnn_cell.MultiRNNCell([get_a_cell() for _ in range(3)]) # 3层RNN\n",
    "# 得到的cell实际也是RNNCell的子类\n",
    "# 它的state_size是(128, 128, 128)\n",
    "# (128, 128, 128)并不是128x128x128的意思\n",
    "# 而是表示共有3个隐层状态，每个隐层状态的大小为128\n",
    "print(cell.state_size) # (128, 128, 128)\n",
    "# 使用对应的call函数\n",
    "inputs = tf.placeholder(np.float32, shape=(32,4,100)) # 32 是 batch_size，time_step=4\n",
    "h0 = cell.zero_state(32, np.float32) # 通过zero_state得到一个全0的初始状态\n",
    "#output, h1 = cell.call(inputs, h0)\n",
    "\n",
    "output, state = tf.nn.dynamic_rnn(cell, inputs, time_major=False,dtype=tf.float32)\n",
    "\n",
    "\n",
    "print(state) # tuple中含有3个32x128的向量\n",
    "print(output) # tuple中含有3个32x128的向量\n"
   ]
  },
  {
   "cell_type": "markdown",
   "metadata": {},
   "source": [
    "**通过MultiRNNCell得到的cell并不是什么新鲜事物，它实际也是RNNCell的子类，因此也有call方法、state_size和output_size属性。同样可以通过tf.nn.dynamic_rnn来一次运行多步。**"
   ]
  },
  {
   "cell_type": "code",
   "execution_count": 1,
   "metadata": {},
   "outputs": [
    {
     "name": "stdout",
     "output_type": "stream",
     "text": [
      "X.shape: Tensor(\"Reshape:0\", shape=(3, 5, 6), dtype=float32)\n",
      "WARNING:tensorflow:\n",
      "The TensorFlow contrib module will not be included in TensorFlow 2.0.\n",
      "For more information, please see:\n",
      "  * https://github.com/tensorflow/community/blob/master/rfcs/20180907-contrib-sunset.md\n",
      "  * https://github.com/tensorflow/addons\n",
      "  * https://github.com/tensorflow/io (for I/O related ops)\n",
      "If you depend on functionality not listed there, please file an issue.\n",
      "\n",
      "WARNING:tensorflow:From <ipython-input-1-e7acfeb6dd55>:10: BasicLSTMCell.__init__ (from tensorflow.python.ops.rnn_cell_impl) is deprecated and will be removed in a future version.\n",
      "Instructions for updating:\n",
      "This class is equivalent as tf.keras.layers.LSTMCell, and will be replaced by that in Tensorflow 2.0.\n",
      "[<tensorflow.python.ops.rnn_cell_impl.BasicLSTMCell object at 0x000002972F0B7F60>, <tensorflow.python.ops.rnn_cell_impl.BasicLSTMCell object at 0x000002972F0B7F28>, <tensorflow.python.ops.rnn_cell_impl.BasicLSTMCell object at 0x00000297319CA828>]\n",
      "WARNING:tensorflow:From <ipython-input-1-e7acfeb6dd55>:13: MultiRNNCell.__init__ (from tensorflow.python.ops.rnn_cell_impl) is deprecated and will be removed in a future version.\n",
      "Instructions for updating:\n",
      "This class is equivalent as tf.keras.layers.StackedRNNCells, and will be replaced by that in Tensorflow 2.0.\n",
      "WARNING:tensorflow:From <ipython-input-1-e7acfeb6dd55>:15: dynamic_rnn (from tensorflow.python.ops.rnn) is deprecated and will be removed in a future version.\n",
      "Instructions for updating:\n",
      "Please use `keras.layers.RNN(cell)`, which is equivalent to this API\n",
      "WARNING:tensorflow:From d:\\python\\anaconda3\\envs\\tf115\\lib\\site-packages\\tensorflow_core\\python\\ops\\rnn_cell_impl.py:735: Layer.add_variable (from tensorflow.python.keras.engine.base_layer) is deprecated and will be removed in a future version.\n",
      "Instructions for updating:\n",
      "Please use `layer.add_weight` method instead.\n",
      "WARNING:tensorflow:From d:\\python\\anaconda3\\envs\\tf115\\lib\\site-packages\\tensorflow_core\\python\\ops\\rnn_cell_impl.py:739: calling Zeros.__init__ (from tensorflow.python.ops.init_ops) with dtype is deprecated and will be removed in a future version.\n",
      "Instructions for updating:\n",
      "Call initializer instance with the dtype argument instead of passing it to the constructor\n",
      "(3, 5, 24)\n",
      "3\n",
      "(3, 24)\n",
      "(3, 24)\n",
      "(3, 24)\n",
      "(3, 24)\n",
      "(3, 24)\n",
      "(3, 24)\n"
     ]
    }
   ],
   "source": [
    "# 多层多步lstm\n",
    "import tensorflow as tf;\n",
    "import numpy as np;\n",
    " \n",
    "X = tf.random_normal(shape=[3, 5, 6], dtype=tf.float32)\n",
    "X = tf.reshape(X, [-1, 5, 6])\n",
    "print('X.shape:',X)\n",
    "stacked_rnn=[]\n",
    "for i in range(3):\n",
    "    stacked_rnn.append(tf.contrib.rnn.BasicLSTMCell(24))\n",
    "print(stacked_rnn)\n",
    "# cell = tf.nn.rnn_cell.BasicLSTMCell(10)  # 也可以换成别的，比如GRUCell，BasicRNNCell等等\n",
    "lstm_multi = tf.contrib.rnn.MultiRNNCell(stacked_rnn)\n",
    "# state = lstm_multi.zero_state(3, tf.float32)\n",
    "output, state = tf.nn.dynamic_rnn(lstm_multi, X, time_major=False,dtype=tf.float32)\n",
    "\n",
    "\n",
    "\n",
    "print(output.shape)  # (3,5,24)\n",
    " \n",
    "print(len(state))#三个LSTM隐藏层  3 *(3,24)\n",
    "#第一个LSTM隐藏层\n",
    "print(state[0].h.shape)#LSTM中的h状态  (3,24)\n",
    "print(state[0].c.shape)#LSTM中的c状态\n",
    "#第二个LSTM隐藏层\n",
    "print(state[1].h.shape)\n",
    "print(state[1].c.shape)\n",
    "#第三个LSTM隐藏层\n",
    "print(state[2].h.shape)\n",
    "print(state[2].c.shape)"
   ]
  },
  {
   "cell_type": "markdown",
   "metadata": {},
   "source": [
    "## 四、可能遇到的坑1：Output说明"
   ]
  },
  {
   "cell_type": "markdown",
   "metadata": {},
   "source": [
    "原始RNN如此下图:\n",
    "\n",
    "![](../imgs/rnn4.jpg)\n",
    "\n",
    "在上面的代码中，我们好像有意忽略了调用call或dynamic_rnn函数后得到的output的介绍。将上图与TensorFlow的BasicRNNCell对照来看。h就对应了BasicRNNCell的state_size。那么，y是不是就对应了BasicRNNCell的output_size呢？**答案是否定的。**\n",
    "\n",
    "找到源码中BasicRNNCell的call函数实现：\n",
    "\n",
    "```python\n",
    "def call(self, inputs, state):\n",
    "    \"\"\"Most basic RNN: output = new_state = act(W * input + U * state + B).\"\"\"\n",
    "    output = self._activation(_linear([inputs, state], self._num_units, True))\n",
    "    return output, output\n",
    "```\n",
    "\n",
    "这句**“return output, output”说明在BasicRNNCell中，output其实和隐状态的值是一样的。因此，我们还需要额外对输出定义新的变换，才能得到图中真正的输出y。**由于output和隐状态是一回事，所以在BasicRNNCell中，state_size永远等于output_size。TensorFlow是出于尽量精简的目的来定义BasicRNNCell的，所以省略了输出参数，我们这里一定要弄清楚它和图中原始RNN定义的联系与区别。\n",
    "\n",
    "再来看一下BasicLSTMCell的call函数定义（函数的最后几行）：\n",
    "\n",
    "```python\n",
    "new_c = (\n",
    "    c * sigmoid(f + self._forget_bias) + sigmoid(i) * self._activation(j))\n",
    "new_h = self._activation(new_c) * sigmoid(o)\n",
    "\n",
    "if self._state_is_tuple:  # 只要关注这里！！！\n",
    "  new_state = LSTMStateTuple(new_c, new_h)\n",
    "else:\n",
    "  new_state = array_ops.concat([new_c, new_h], 1)\n",
    "return new_h, new_state\n",
    "```\n",
    "\n",
    "我们只需要关注self._state_is_tuple == True的情况，因为self._state_is_tuple == False的情况将在未来被弃用。返回的隐状态是new_c和new_h的组合，而**output就是单独的new_h**。如果我们处理的是**分类问题，那么我们还需要对new_h添加单独的Softmax层才能得到最后的分类概率输出。**"
   ]
  },
  {
   "cell_type": "markdown",
   "metadata": {},
   "source": []
  }
 ],
 "metadata": {
  "kernelspec": {
   "display_name": "Python 3",
   "language": "python",
   "name": "python3"
  },
  "language_info": {
   "codemirror_mode": {
    "name": "ipython",
    "version": 3
   },
   "file_extension": ".py",
   "mimetype": "text/x-python",
   "name": "python",
   "nbconvert_exporter": "python",
   "pygments_lexer": "ipython3",
   "version": "3.6.12"
  }
 },
 "nbformat": 4,
 "nbformat_minor": 4
}
