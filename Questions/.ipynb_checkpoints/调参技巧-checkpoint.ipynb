{
 "cells": [
  {
   "cell_type": "markdown",
   "metadata": {},
   "source": [
    "# 参考文献\n",
    "\n",
    "- [1] https://mp.weixin.qq.com/s/RPVzp2gOvufMt2SymxGMVw"
   ]
  },
  {
   "cell_type": "markdown",
   "metadata": {},
   "source": [
    "# 目录\n",
    "\n",
    "- [确定数据](#确定数据)\n",
    "- [是否使用预训练模型](#是否使用预训练模型)"
   ]
  },
  {
   "cell_type": "markdown",
   "metadata": {},
   "source": [
    "# 确定数据\n",
    "\n"
   ]
  },
  {
   "cell_type": "markdown",
   "metadata": {},
   "source": [
    "- 确保输入(x)对应于一个label(y)，多分类任务有多个label\n",
    "- 确保预测数据中label与训练label一致，例如one-hot格式，cate格式，数值范围等。之前首焦模型中就用feat作为label导致取值范围不同都默认为负样本，训练失败。"
   ]
  },
  {
   "cell_type": "markdown",
   "metadata": {},
   "source": [
    "# 是否使用预训练模型"
   ]
  },
  {
   "cell_type": "markdown",
   "metadata": {},
   "source": [
    "- 如果问题域中的数据集类似于ImageNet数据集，可以使用预训练模型，如VGG，Resnet，DenseNet，Xception等。建议从较少的网络层开始尝试（例如VGG-16, ResNet-50或densen -121层），获得最佳参数后再尝试同种网络的更多的网络层。\n",
    "\n",
    "- 也可以只使用初始的几层（锁定不更新）提取基本特征（例如锯齿、形状等）高阶层次自定义。\n",
    "\n",
    "- 微调几层（预训练模型中浅层锁定，高层更新），或者数据集较小，只训练最后的分类层。还可以在需要微调（更新）的conv层后加入dropout层，抵抗过拟合。但是**dropout在层次少的模型（数据少）中效果好，高层的（数据多，用了bn就不用dropout了）效果一般**。\n",
    "\n",
    "- 如果数据集和预训练网络的数据集（ImageNet）不相似，则从头构建并训练模型。"
   ]
  },
  {
   "cell_type": "markdown",
   "metadata": {},
   "source": [
    "# "
   ]
  }
 ],
 "metadata": {
  "kernelspec": {
   "display_name": "Python 3",
   "language": "python",
   "name": "python3"
  },
  "language_info": {
   "codemirror_mode": {
    "name": "ipython",
    "version": 3
   },
   "file_extension": ".py",
   "mimetype": "text/x-python",
   "name": "python",
   "nbconvert_exporter": "python",
   "pygments_lexer": "ipython3",
   "version": "3.6.12"
  }
 },
 "nbformat": 4,
 "nbformat_minor": 4
}
